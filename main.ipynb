{
 "cells": [
  {
   "cell_type": "code",
   "execution_count": 1,
   "metadata": {},
   "outputs": [
    {
     "name": "stdout",
     "output_type": "stream",
     "text": [
      "running on CPU\n",
      "running on CPU\n"
     ]
    }
   ],
   "source": [
    "from dataset import *\n",
    "from demo import *"
   ]
  },
  {
   "cell_type": "code",
   "execution_count": 2,
   "metadata": {},
   "outputs": [],
   "source": [
    "args = get_args()"
   ]
  },
  {
   "cell_type": "code",
   "execution_count": 3,
   "metadata": {},
   "outputs": [
    {
     "data": {
      "text/plain": [
       "<bound method _AttributeHolder._get_args of Namespace(mode='4D-FED-GNN++', num_folds=5, num_regions=35, num_timepoints=3, num_epochs=2, lr_g=0.01, lr_d=0.0002, decay=0.0, C=14, D=7, batch_num=1, tp_coeff=0.0, g_coeff=2.0, i_coeff=2.0, kl_coeff=0.001, exp=1, lr=0.001, tp_coef=10)>"
      ]
     },
     "execution_count": 3,
     "metadata": {},
     "output_type": "execute_result"
    }
   ],
   "source": [
    "args._get_args"
   ]
  },
  {
   "cell_type": "code",
   "execution_count": 4,
   "metadata": {},
   "outputs": [
    {
     "data": {
      "text/plain": [
       "<torch._C.Generator at 0x1429dcf70>"
      ]
     },
     "execution_count": 4,
     "metadata": {},
     "output_type": "execute_result"
    }
   ],
   "source": [
    "# random seed\n",
    "manualSeed = 1\n",
    "\n",
    "np.random.seed(manualSeed)\n",
    "random.seed(manualSeed)\n",
    "torch.manual_seed(manualSeed)"
   ]
  },
  {
   "cell_type": "code",
   "execution_count": 5,
   "metadata": {},
   "outputs": [
    {
     "name": "stdout",
     "output_type": "stream",
     "text": [
      "(120, 6, 35, 35, 4)\n"
     ]
    }
   ],
   "source": [
    "# 120 samples and 6 timepoints.\n",
    "X = prepare_data(new_data=True,n_samples=120,n_times=6)"
   ]
  },
  {
   "cell_type": "code",
   "execution_count": 6,
   "metadata": {},
   "outputs": [],
   "source": [
    "# Convert X to tensor \n",
    "X = torch.from_numpy(X)\n",
    "X = X.type(torch.FloatTensor)"
   ]
  },
  {
   "cell_type": "code",
   "execution_count": 7,
   "metadata": {},
   "outputs": [],
   "source": [
    "# Create table\n",
    "table = np.zeros((args.num_folds - 1, args.num_timepoints))\n",
    "table = random_table(args, 4/8)"
   ]
  },
  {
   "cell_type": "code",
   "execution_count": 8,
   "metadata": {},
   "outputs": [
    {
     "name": "stdout",
     "output_type": "stream",
     "text": [
      "------------------------------------Fold [1/5]-----------------------------------------\n",
      "-----------------------------------------------------------------------------\n",
      "Ordering of the hospitals:  [3 2 1 0]\n",
      "Epoch [1/2]\n",
      "Hospital [4/4]\n",
      "[Train] Loss T1: 1.19668 [Train] TP Loss T1: 1003.82438  [Train] Total Loss T1: 5019.72030 \n",
      "Hospital [3/4]\n",
      "[Train] Loss T1: 1.20496 [Train] TP Loss T1: 1019.60143  [Train] Total Loss T1: 5098.60965 \n",
      "Hospital [2/4]\n",
      "[Train] Loss T1: 1.05459 [Train] TP Loss T1: 752.84751  [Train] Total Loss T1: 3764.76489 \n",
      "Hospital [1/4]\n",
      "[Train] Loss T1: 0.62320 [Train] TP Loss T1: 549.94068  [Train] Total Loss T1: 5500.03003 \n",
      "Epoch [2/2]\n",
      "Hospital [4/4]\n",
      "[Train] Loss T1: 0.34089 [Train] TP Loss T1: 76.91100  [Train] Total Loss T1: 384.72542 \n",
      "Hospital [3/4]\n",
      "[Train] Loss T1: 0.38297 [Train] TP Loss T1: 99.69861  [Train] Total Loss T1: 498.68454 \n",
      "Hospital [2/4]\n",
      "[Train] Loss T1: 0.34616 [Train] TP Loss T1: 79.89188  [Train] Total Loss T1: 399.63249 \n",
      "Hospital [1/4]\n",
      "[Train] Loss T1: 0.16803 [Train] TP Loss T1: 37.67162  [Train] Total Loss T1: 376.88421 \n",
      " \n",
      "-----------------------------------------------------------------------------\n",
      "Ordering of the hospitals:  [0 3 2 1]\n",
      "Epoch [1/2]\n",
      "Hospital [1/4]\n",
      "[Train] Loss T2: 1.99053 [Train] TP Loss T2: 2741.11963  [Train] Total Loss T2: 13706.59336 \n",
      "Hospital [4/4]\n",
      "[Train] Loss T2: 0.62829 [Train] TP Loss T2: 554.53996  [Train] Total Loss T2: 5546.02793 \n",
      "Hospital [3/4]\n",
      "[Train] Loss T2: 0.67161 [Train] TP Loss T2: 652.43446  [Train] Total Loss T2: 6525.01614 \n",
      "Hospital [2/4]\n",
      "[Train] Loss T2: 0.69261 [Train] TP Loss T2: 684.80688  [Train] Total Loss T2: 6848.76151 \n",
      "Epoch [2/2]\n",
      "Hospital [1/4]\n",
      "[Train] Loss T2: 0.59257 [Train] TP Loss T2: 249.78106  [Train] Total Loss T2: 1249.20158 \n",
      "Hospital [4/4]\n",
      "[Train] Loss T2: 0.17718 [Train] TP Loss T2: 42.89563  [Train] Total Loss T2: 429.13349 \n",
      "Hospital [3/4]\n",
      "[Train] Loss T2: 0.18528 [Train] TP Loss T2: 47.05990  [Train] Total Loss T2: 470.78432 \n",
      "Hospital [2/4]\n",
      "[Train] Loss T2: 0.18630 [Train] TP Loss T2: 50.11861  [Train] Total Loss T2: 501.37242 \n",
      " \n"
     ]
    }
   ],
   "source": [
    "args,hospitals,test_data,f=train(args,X[:, :, :, :, 0], table)"
   ]
  },
  {
   "cell_type": "code",
   "execution_count": 9,
   "metadata": {},
   "outputs": [],
   "source": [
    "data = test_data[0].to(device)"
   ]
  },
  {
   "cell_type": "code",
   "execution_count": 10,
   "metadata": {},
   "outputs": [
    {
     "data": {
      "text/plain": [
       "torch.Size([35, 35])"
      ]
     },
     "execution_count": 10,
     "metadata": {},
     "output_type": "execute_result"
    }
   ],
   "source": [
    "data.shape "
   ]
  },
  {
   "cell_type": "code",
   "execution_count": null,
   "metadata": {},
   "outputs": [],
   "source": []
  },
  {
   "cell_type": "code",
   "execution_count": 14,
   "metadata": {},
   "outputs": [
    {
     "data": {
      "text/plain": [
       "(35,)"
      ]
     },
     "execution_count": 14,
     "metadata": {},
     "output_type": "execute_result"
    }
   ],
   "source": [
    "data[0].cpu().detach().numpy().shape "
   ]
  },
  {
   "cell_type": "code",
   "execution_count": 21,
   "metadata": {},
   "outputs": [
    {
     "data": {
      "text/plain": [
       "torch.Size([35])"
      ]
     },
     "execution_count": 21,
     "metadata": {},
     "output_type": "execute_result"
    }
   ],
   "source": [
    "out[1].shape "
   ]
  },
  {
   "cell_type": "code",
   "execution_count": 16,
   "metadata": {},
   "outputs": [
    {
     "data": {
      "text/plain": [
       "<matplotlib.image.AxesImage at 0x1500f0d90>"
      ]
     },
     "execution_count": 16,
     "metadata": {},
     "output_type": "execute_result"
    },
    {
     "data": {
      "image/png": "[encoded data removed]",
      "text/plain": [
       "<Figure size 640x480 with 2 Axes>"
      ]
     },
     "metadata": {},
     "output_type": "display_data"
    }
   ],
   "source": [
    "out = data\n",
    "fig = plt.figure()\n",
    "plt.pcolor(abs(out))\n",
    "plt.colorbar()\n",
    "plt.imshow(out)"
   ]
  },
  {
   "cell_type": "code",
   "execution_count": 12,
   "metadata": {},
   "outputs": [
    {
     "ename": "ValueError",
     "evalue": "not enough values to unpack (expected 2, got 1)",
     "output_type": "error",
     "traceback": [
      "\u001b[0;31m---------------------------------------------------------------------------\u001b[0m",
      "\u001b[0;31mValueError\u001b[0m                                Traceback (most recent call last)",
      "Cell \u001b[0;32mIn[12], line 1\u001b[0m\n\u001b[0;32m----> 1\u001b[0m \u001b[43mplot_matrix\u001b[49m\u001b[43m(\u001b[49m\u001b[43mdata\u001b[49m\u001b[43m[\u001b[49m\u001b[38;5;241;43m0\u001b[39;49m\u001b[43m]\u001b[49m\u001b[38;5;241;43m.\u001b[39;49m\u001b[43mcpu\u001b[49m\u001b[43m(\u001b[49m\u001b[43m)\u001b[49m\u001b[38;5;241;43m.\u001b[39;49m\u001b[43mdetach\u001b[49m\u001b[43m(\u001b[49m\u001b[43m)\u001b[49m\u001b[38;5;241;43m.\u001b[39;49m\u001b[43mnumpy\u001b[49m\u001b[43m(\u001b[49m\u001b[43m)\u001b[49m\u001b[43m,\u001b[49m\u001b[43m \u001b[49m\u001b[38;5;124;43m\"\u001b[39;49m\u001b[38;5;124;43mt\u001b[39;49m\u001b[38;5;124;43m\"\u001b[39;49m\u001b[43m \u001b[49m\u001b[38;5;241;43m+\u001b[39;49m\u001b[43m \u001b[49m\u001b[38;5;28;43mstr\u001b[39;49m\u001b[43m(\u001b[49m\u001b[38;5;241;43m0\u001b[39;49m\u001b[43m)\u001b[49m\u001b[43m \u001b[49m\u001b[38;5;241;43m+\u001b[39;49m\u001b[43m \u001b[49m\u001b[38;5;124;43m\"\u001b[39;49m\u001b[38;5;124;43mgt\u001b[39;49m\u001b[38;5;124;43m\"\u001b[39;49m\u001b[43m \u001b[49m\u001b[38;5;241;43m+\u001b[39;49m\u001b[43m \u001b[49m\u001b[38;5;28;43mstr\u001b[39;49m\u001b[43m(\u001b[49m\u001b[38;5;241;43m0\u001b[39;49m\u001b[43m)\u001b[49m\u001b[43m)\u001b[49m\n",
      "File \u001b[0;32m~/Desktop/Python_Projects/Imperial/Dissertation/Code/4D-FedGNN-Plus_mine/plot.py:38\u001b[0m, in \u001b[0;36mplot_matrix\u001b[0;34m(out, strategy)\u001b[0m\n\u001b[1;32m     36\u001b[0m \u001b[39mdef\u001b[39;00m \u001b[39mplot_matrix\u001b[39m(out, strategy):\n\u001b[1;32m     37\u001b[0m     fig \u001b[39m=\u001b[39m plt\u001b[39m.\u001b[39mfigure()\n\u001b[0;32m---> 38\u001b[0m     plt\u001b[39m.\u001b[39;49mpcolor(\u001b[39mabs\u001b[39;49m(out))\n\u001b[1;32m     39\u001b[0m     plt\u001b[39m.\u001b[39mcolorbar()\n\u001b[1;32m     40\u001b[0m     plt\u001b[39m.\u001b[39mimshow(out)\n",
      "File \u001b[0;32m/opt/anaconda3/envs/diss/lib/python3.11/site-packages/matplotlib/pyplot.py:2759\u001b[0m, in \u001b[0;36mpcolor\u001b[0;34m(shading, alpha, norm, cmap, vmin, vmax, data, *args, **kwargs)\u001b[0m\n\u001b[1;32m   2755\u001b[0m \u001b[39m@_copy_docstring_and_deprecators\u001b[39m(Axes\u001b[39m.\u001b[39mpcolor)\n\u001b[1;32m   2756\u001b[0m \u001b[39mdef\u001b[39;00m \u001b[39mpcolor\u001b[39m(\n\u001b[1;32m   2757\u001b[0m         \u001b[39m*\u001b[39margs, shading\u001b[39m=\u001b[39m\u001b[39mNone\u001b[39;00m, alpha\u001b[39m=\u001b[39m\u001b[39mNone\u001b[39;00m, norm\u001b[39m=\u001b[39m\u001b[39mNone\u001b[39;00m, cmap\u001b[39m=\u001b[39m\u001b[39mNone\u001b[39;00m,\n\u001b[1;32m   2758\u001b[0m         vmin\u001b[39m=\u001b[39m\u001b[39mNone\u001b[39;00m, vmax\u001b[39m=\u001b[39m\u001b[39mNone\u001b[39;00m, data\u001b[39m=\u001b[39m\u001b[39mNone\u001b[39;00m, \u001b[39m*\u001b[39m\u001b[39m*\u001b[39mkwargs):\n\u001b[0;32m-> 2759\u001b[0m     __ret \u001b[39m=\u001b[39m gca()\u001b[39m.\u001b[39;49mpcolor(\n\u001b[1;32m   2760\u001b[0m         \u001b[39m*\u001b[39;49margs, shading\u001b[39m=\u001b[39;49mshading, alpha\u001b[39m=\u001b[39;49malpha, norm\u001b[39m=\u001b[39;49mnorm, cmap\u001b[39m=\u001b[39;49mcmap,\n\u001b[1;32m   2761\u001b[0m         vmin\u001b[39m=\u001b[39;49mvmin, vmax\u001b[39m=\u001b[39;49mvmax,\n\u001b[1;32m   2762\u001b[0m         \u001b[39m*\u001b[39;49m\u001b[39m*\u001b[39;49m({\u001b[39m\"\u001b[39;49m\u001b[39mdata\u001b[39;49m\u001b[39m\"\u001b[39;49m: data} \u001b[39mif\u001b[39;49;00m data \u001b[39mis\u001b[39;49;00m \u001b[39mnot\u001b[39;49;00m \u001b[39mNone\u001b[39;49;00m \u001b[39melse\u001b[39;49;00m {}), \u001b[39m*\u001b[39;49m\u001b[39m*\u001b[39;49mkwargs)\n\u001b[1;32m   2763\u001b[0m     sci(__ret)\n\u001b[1;32m   2764\u001b[0m     \u001b[39mreturn\u001b[39;00m __ret\n",
      "File \u001b[0;32m/opt/anaconda3/envs/diss/lib/python3.11/site-packages/matplotlib/__init__.py:1442\u001b[0m, in \u001b[0;36m_preprocess_data.<locals>.inner\u001b[0;34m(ax, data, *args, **kwargs)\u001b[0m\n\u001b[1;32m   1439\u001b[0m \u001b[39m@functools\u001b[39m\u001b[39m.\u001b[39mwraps(func)\n\u001b[1;32m   1440\u001b[0m \u001b[39mdef\u001b[39;00m \u001b[39minner\u001b[39m(ax, \u001b[39m*\u001b[39margs, data\u001b[39m=\u001b[39m\u001b[39mNone\u001b[39;00m, \u001b[39m*\u001b[39m\u001b[39m*\u001b[39mkwargs):\n\u001b[1;32m   1441\u001b[0m     \u001b[39mif\u001b[39;00m data \u001b[39mis\u001b[39;00m \u001b[39mNone\u001b[39;00m:\n\u001b[0;32m-> 1442\u001b[0m         \u001b[39mreturn\u001b[39;00m func(ax, \u001b[39m*\u001b[39;49m\u001b[39mmap\u001b[39;49m(sanitize_sequence, args), \u001b[39m*\u001b[39;49m\u001b[39m*\u001b[39;49mkwargs)\n\u001b[1;32m   1444\u001b[0m     bound \u001b[39m=\u001b[39m new_sig\u001b[39m.\u001b[39mbind(ax, \u001b[39m*\u001b[39margs, \u001b[39m*\u001b[39m\u001b[39m*\u001b[39mkwargs)\n\u001b[1;32m   1445\u001b[0m     auto_label \u001b[39m=\u001b[39m (bound\u001b[39m.\u001b[39marguments\u001b[39m.\u001b[39mget(label_namer)\n\u001b[1;32m   1446\u001b[0m                   \u001b[39mor\u001b[39;00m bound\u001b[39m.\u001b[39mkwargs\u001b[39m.\u001b[39mget(label_namer))\n",
      "File \u001b[0;32m/opt/anaconda3/envs/diss/lib/python3.11/site-packages/matplotlib/axes/_axes.py:5946\u001b[0m, in \u001b[0;36mAxes.pcolor\u001b[0;34m(self, shading, alpha, norm, cmap, vmin, vmax, *args, **kwargs)\u001b[0m\n\u001b[1;32m   5944\u001b[0m     shading \u001b[39m=\u001b[39m mpl\u001b[39m.\u001b[39mrcParams[\u001b[39m'\u001b[39m\u001b[39mpcolor.shading\u001b[39m\u001b[39m'\u001b[39m]\n\u001b[1;32m   5945\u001b[0m shading \u001b[39m=\u001b[39m shading\u001b[39m.\u001b[39mlower()\n\u001b[0;32m-> 5946\u001b[0m X, Y, C, shading \u001b[39m=\u001b[39m \u001b[39mself\u001b[39;49m\u001b[39m.\u001b[39;49m_pcolorargs(\u001b[39m'\u001b[39;49m\u001b[39mpcolor\u001b[39;49m\u001b[39m'\u001b[39;49m, \u001b[39m*\u001b[39;49margs, shading\u001b[39m=\u001b[39;49mshading,\n\u001b[1;32m   5947\u001b[0m                                     kwargs\u001b[39m=\u001b[39;49mkwargs)\n\u001b[1;32m   5948\u001b[0m Ny, Nx \u001b[39m=\u001b[39m X\u001b[39m.\u001b[39mshape\n\u001b[1;32m   5950\u001b[0m \u001b[39m# convert to MA, if necessary.\u001b[39;00m\n",
      "File \u001b[0;32m/opt/anaconda3/envs/diss/lib/python3.11/site-packages/matplotlib/axes/_axes.py:5698\u001b[0m, in \u001b[0;36mAxes._pcolorargs\u001b[0;34m(self, funcname, shading, *args, **kwargs)\u001b[0m\n\u001b[1;32m   5696\u001b[0m \u001b[39mif\u001b[39;00m \u001b[39mlen\u001b[39m(args) \u001b[39m==\u001b[39m \u001b[39m1\u001b[39m:\n\u001b[1;32m   5697\u001b[0m     C \u001b[39m=\u001b[39m np\u001b[39m.\u001b[39masanyarray(args[\u001b[39m0\u001b[39m])\n\u001b[0;32m-> 5698\u001b[0m     nrows, ncols \u001b[39m=\u001b[39m C\u001b[39m.\u001b[39mshape[:\u001b[39m2\u001b[39m]\n\u001b[1;32m   5699\u001b[0m     \u001b[39mif\u001b[39;00m shading \u001b[39min\u001b[39;00m [\u001b[39m'\u001b[39m\u001b[39mgouraud\u001b[39m\u001b[39m'\u001b[39m, \u001b[39m'\u001b[39m\u001b[39mnearest\u001b[39m\u001b[39m'\u001b[39m]:\n\u001b[1;32m   5700\u001b[0m         X, Y \u001b[39m=\u001b[39m np\u001b[39m.\u001b[39mmeshgrid(np\u001b[39m.\u001b[39marange(ncols), np\u001b[39m.\u001b[39marange(nrows))\n",
      "\u001b[0;31mValueError\u001b[0m: not enough values to unpack (expected 2, got 1)"
     ]
    },
    {
     "data": {
      "image/png": "[encoded data removed]",
      "text/plain": [
       "<Figure size 640x480 with 1 Axes>"
      ]
     },
     "metadata": {},
     "output_type": "display_data"
    }
   ],
   "source": [
    "plot_matrix(data[0].cpu().detach().numpy(), \"t\" + str(0) + \"gt\" + str(0))"
   ]
  },
  {
   "cell_type": "code",
   "execution_count": 31,
   "metadata": {},
   "outputs": [
    {
     "name": "stdout",
     "output_type": "stream",
     "text": [
      "0 0\n",
      "0 1\n",
      "1 0\n",
      "1 1\n",
      "2 0\n",
      "2 1\n",
      "3 0\n",
      "3 1\n",
      "4 0\n",
      "4 1\n",
      "5 0\n",
      "5 1\n",
      "[Val]: MAE Loss Model1: 0.13208[Val]: MAE Loss Model2: 0.35533 \n",
      "0 0\n",
      "0 1\n",
      "1 0\n",
      "1 1\n",
      "2 0\n",
      "2 1\n",
      "3 0\n",
      "3 1\n",
      "4 0\n",
      "4 1\n",
      "5 0\n",
      "5 1\n",
      "[Val]: MAE Loss Model1: 0.13216[Val]: MAE Loss Model2: 0.44034 \n",
      "0 0\n",
      "0 1\n",
      "1 0\n",
      "1 1\n",
      "2 0\n",
      "2 1\n",
      "3 0\n",
      "3 1\n",
      "4 0\n",
      "4 1\n",
      "5 0\n",
      "5 1\n",
      "[Val]: MAE Loss Model1: 0.13781[Val]: MAE Loss Model2: 0.44684 \n",
      "0 0\n",
      "0 1\n",
      "1 0\n",
      "1 1\n",
      "2 0\n",
      "2 1\n",
      "3 0\n",
      "3 1\n",
      "4 0\n",
      "4 1\n",
      "5 0\n",
      "5 1\n",
      "[Val]: MAE Loss Model1: 0.14259[Val]: MAE Loss Model2: 0.48683 \n"
     ]
    }
   ],
   "source": [
    "validate_1(args, hospitals, test_data, f)"
   ]
  },
  {
   "cell_type": "code",
   "execution_count": 29,
   "metadata": {},
   "outputs": [],
   "source": [
    "def validate_1(args, hospitals, test_data, f):\n",
    "    \"\"\"\n",
    "        Output:\n",
    "            plotting of each predicted testing brain graph, also saved as a numpy file\n",
    "            average MAE of predicted brain graphs\n",
    "    \"\"\"\n",
    "    mael = torch.nn.L1Loss().to(device)\n",
    "\n",
    "    val_hos = len(test_data)\n",
    "    for j, hospital in enumerate(hospitals):\n",
    "        hloss = []\n",
    "        for k in range(len(hospital.models)):\n",
    "            hospital.models[k].eval()\n",
    "            hloss.append(0)\n",
    "\n",
    "        with torch.no_grad():\n",
    "            for i, data in enumerate(test_data):\n",
    "                data = data.to(device)\n",
    "                out_1 = data#[0]\n",
    "                for k, model in enumerate(hospital.models):\n",
    "                    print(i,k)\n",
    "                    temp = model.rnn[0].hidden_state\n",
    "                    out_1 = model(out_1)\n",
    "                    model.rnn[0].hidden_state = temp\n",
    "                    hloss[k] += mael(out_1, data[k + 1])\n",
    "                    plot_matrix(data.cpu().detach().numpy(), \"t\" + str(k) + \"gt\" + str(i))\n",
    "                    plot_matrix(out_1.cpu().detach().numpy(), \"exp_\" + str(args.exp) + \"t\" + str(k + 1) + \"_sample\" + str(i) + \"_hos\" + str(j))\n",
    "                    np.save(\"np_graphs/t\" + str(k) + \"gt\" + str(i), data[k].cpu().detach().numpy())\n",
    "                    np.save(\"np_graphs/exp_\" + str(args.exp) + \"t\" + str(k + 1) + \"_sample\" + str(i) + \"_hos\" + str(j), out_1.cpu().detach().numpy())\n",
    "\n",
    "                plot_matrix(data.cpu().detach().numpy(), \"t\" + str(k) + \"gt\" + str(i))\n",
    "                np.save(\"np_graphs/t\" + str(k + 1) + \"gt\" + str(i), data.cpu().detach().numpy())\n",
    "\n",
    "        for k in range(1, args.num_timepoints):\n",
    "            print(\n",
    "                '[Val]: MAE Loss Model' + str(k) + f': {hloss[k - 1] / val_hos:.5f}', sep=' ', end='', flush=True)\n",
    "\n",
    "        print(\" \")"
   ]
  },
  {
   "cell_type": "code",
   "execution_count": 43,
   "metadata": {},
   "outputs": [
    {
     "data": {
      "text/plain": [
       "torch.Size([35, 35])"
      ]
     },
     "execution_count": 43,
     "metadata": {},
     "output_type": "execute_result"
    }
   ],
   "source": [
    "j = 0\n",
    "k = 0\n",
    "model = hospitals[0].models[0]\n",
    "hospital = hospitals[0]\n",
    "out_1 = test_data[0]#[0]\n",
    "out_1.shape "
   ]
  },
  {
   "cell_type": "code",
   "execution_count": 44,
   "metadata": {},
   "outputs": [],
   "source": [
    "out_1 = model(out_1)\n",
    "out_1"
   ]
  },
  {
   "cell_type": "code",
   "execution_count": 45,
   "metadata": {},
   "outputs": [
    {
     "data": {
      "text/plain": [
       "torch.Size([35, 35])"
      ]
     },
     "execution_count": 45,
     "metadata": {},
     "output_type": "execute_result"
    }
   ],
   "source": [
    "out_1.shape "
   ]
  },
  {
   "cell_type": "code",
   "execution_count": 15,
   "metadata": {},
   "outputs": [
    {
     "data": {
      "text/plain": [
       "torch.Size([6, 35, 35])"
      ]
     },
     "execution_count": 15,
     "metadata": {},
     "output_type": "execute_result"
    }
   ],
   "source": [
    "test_data.shape "
   ]
  },
  {
   "cell_type": "code",
   "execution_count": 20,
   "metadata": {},
   "outputs": [
    {
     "name": "stdout",
     "output_type": "stream",
     "text": [
      "0 0\n"
     ]
    },
    {
     "ename": "IndexError",
     "evalue": "tuple index out of range",
     "output_type": "error",
     "traceback": [
      "\u001b[0;31m---------------------------------------------------------------------------\u001b[0m",
      "\u001b[0;31mIndexError\u001b[0m                                Traceback (most recent call last)",
      "Cell \u001b[0;32mIn[20], line 1\u001b[0m\n\u001b[0;32m----> 1\u001b[0m \u001b[43mvalidate_1\u001b[49m\u001b[43m(\u001b[49m\u001b[43margs\u001b[49m\u001b[43m,\u001b[49m\u001b[43m \u001b[49m\u001b[43mhospitals\u001b[49m\u001b[43m,\u001b[49m\u001b[43m \u001b[49m\u001b[43mtest_data\u001b[49m\u001b[43m,\u001b[49m\u001b[43m \u001b[49m\u001b[43mf\u001b[49m\u001b[43m)\u001b[49m\n",
      "Cell \u001b[0;32mIn[19], line 23\u001b[0m, in \u001b[0;36mvalidate_1\u001b[0;34m(args, hospitals, test_data, f)\u001b[0m\n\u001b[1;32m     21\u001b[0m \u001b[38;5;28mprint\u001b[39m(i,k)\n\u001b[1;32m     22\u001b[0m temp \u001b[38;5;241m=\u001b[39m model\u001b[38;5;241m.\u001b[39mrnn[\u001b[38;5;241m0\u001b[39m]\u001b[38;5;241m.\u001b[39mhidden_state\n\u001b[0;32m---> 23\u001b[0m out_1 \u001b[38;5;241m=\u001b[39m \u001b[43mmodel\u001b[49m\u001b[43m(\u001b[49m\u001b[43mout_1\u001b[49m\u001b[43m)\u001b[49m\n\u001b[1;32m     24\u001b[0m model\u001b[38;5;241m.\u001b[39mrnn[\u001b[38;5;241m0\u001b[39m]\u001b[38;5;241m.\u001b[39mhidden_state \u001b[38;5;241m=\u001b[39m temp\n\u001b[1;32m     25\u001b[0m hloss[k] \u001b[38;5;241m+\u001b[39m\u001b[38;5;241m=\u001b[39m mael(out_1, data[k \u001b[38;5;241m+\u001b[39m \u001b[38;5;241m1\u001b[39m])\n",
      "File \u001b[0;32m/opt/anaconda3/envs/diss/lib/python3.11/site-packages/torch/nn/modules/module.py:1501\u001b[0m, in \u001b[0;36mModule._call_impl\u001b[0;34m(self, *args, **kwargs)\u001b[0m\n\u001b[1;32m   1496\u001b[0m \u001b[39m# If we don't have any hooks, we want to skip the rest of the logic in\u001b[39;00m\n\u001b[1;32m   1497\u001b[0m \u001b[39m# this function, and just call forward.\u001b[39;00m\n\u001b[1;32m   1498\u001b[0m \u001b[39mif\u001b[39;00m \u001b[39mnot\u001b[39;00m (\u001b[39mself\u001b[39m\u001b[39m.\u001b[39m_backward_hooks \u001b[39mor\u001b[39;00m \u001b[39mself\u001b[39m\u001b[39m.\u001b[39m_backward_pre_hooks \u001b[39mor\u001b[39;00m \u001b[39mself\u001b[39m\u001b[39m.\u001b[39m_forward_hooks \u001b[39mor\u001b[39;00m \u001b[39mself\u001b[39m\u001b[39m.\u001b[39m_forward_pre_hooks\n\u001b[1;32m   1499\u001b[0m         \u001b[39mor\u001b[39;00m _global_backward_pre_hooks \u001b[39mor\u001b[39;00m _global_backward_hooks\n\u001b[1;32m   1500\u001b[0m         \u001b[39mor\u001b[39;00m _global_forward_hooks \u001b[39mor\u001b[39;00m _global_forward_pre_hooks):\n\u001b[0;32m-> 1501\u001b[0m     \u001b[39mreturn\u001b[39;00m forward_call(\u001b[39m*\u001b[39;49margs, \u001b[39m*\u001b[39;49m\u001b[39m*\u001b[39;49mkwargs)\n\u001b[1;32m   1502\u001b[0m \u001b[39m# Do not call functions when jit is used\u001b[39;00m\n\u001b[1;32m   1503\u001b[0m full_backward_hooks, non_full_backward_hooks \u001b[39m=\u001b[39m [], []\n",
      "File \u001b[0;32m~/Desktop/Python_Projects/Imperial/Dissertation/Code/4D-FedGNN-Plus_mine/model_rbgm.py:87\u001b[0m, in \u001b[0;36mGNN_1.forward\u001b[0;34m(self, data)\u001b[0m\n\u001b[1;32m     86\u001b[0m \u001b[39mdef\u001b[39;00m \u001b[39mforward\u001b[39m(\u001b[39mself\u001b[39m, data):\n\u001b[0;32m---> 87\u001b[0m     edge_index, edge_attr, _, _ \u001b[39m=\u001b[39m create_edge_index_attribute(data)\n\u001b[1;32m     88\u001b[0m     x1 \u001b[39m=\u001b[39m F\u001b[39m.\u001b[39mrelu(\u001b[39mself\u001b[39m\u001b[39m.\u001b[39mgnn_conv(data, edge_index\u001b[39m.\u001b[39mto(device), edge_attr\u001b[39m.\u001b[39mto(device)))\n\u001b[1;32m     89\u001b[0m     x1 \u001b[39m=\u001b[39m eucledian_distance(x1)\n",
      "File \u001b[0;32m~/Desktop/Python_Projects/Imperial/Dissertation/Code/4D-FedGNN-Plus_mine/data_utils.py:247\u001b[0m, in \u001b[0;36mcreate_edge_index_attribute\u001b[0;34m(adj_matrix)\u001b[0m\n\u001b[1;32m    241\u001b[0m \u001b[39mdef\u001b[39;00m \u001b[39mcreate_edge_index_attribute\u001b[39m(adj_matrix):\n\u001b[1;32m    242\u001b[0m \u001b[39m    \u001b[39m\u001b[39m\"\"\"\u001b[39;00m\n\u001b[1;32m    243\u001b[0m \u001b[39m    Given an adjacency matrix, this function creates the edge index and edge attribute matrix\u001b[39;00m\n\u001b[1;32m    244\u001b[0m \u001b[39m    suitable to graph representation in PyTorch Geometric.\u001b[39;00m\n\u001b[1;32m    245\u001b[0m \u001b[39m    \"\"\"\u001b[39;00m\n\u001b[0;32m--> 247\u001b[0m     rows, cols \u001b[39m=\u001b[39m adj_matrix\u001b[39m.\u001b[39mshape[\u001b[39m0\u001b[39m], adj_matrix\u001b[39m.\u001b[39;49mshape[\u001b[39m1\u001b[39;49m]\n\u001b[1;32m    248\u001b[0m     edge_index \u001b[39m=\u001b[39m torch\u001b[39m.\u001b[39mzeros((\u001b[39m2\u001b[39m, rows \u001b[39m*\u001b[39m cols), dtype\u001b[39m=\u001b[39mtorch\u001b[39m.\u001b[39mlong)\n\u001b[1;32m    249\u001b[0m     edge_attr \u001b[39m=\u001b[39m torch\u001b[39m.\u001b[39mzeros((rows \u001b[39m*\u001b[39m cols, \u001b[39m1\u001b[39m), dtype\u001b[39m=\u001b[39mtorch\u001b[39m.\u001b[39mfloat)\n",
      "\u001b[0;31mIndexError\u001b[0m: tuple index out of range"
     ]
    }
   ],
   "source": [
    "validate_1(args, hospitals, test_data, f)"
   ]
  },
  {
   "cell_type": "code",
   "execution_count": null,
   "metadata": {},
   "outputs": [],
   "source": []
  }
 ],
 "metadata": {
  "kernelspec": {
   "display_name": "Python 3.11.3 ('diss')",
   "language": "python",
   "name": "python3"
  },
  "language_info": {
   "codemirror_mode": {
    "name": "ipython",
    "version": 3
   },
   "file_extension": ".py",
   "mimetype": "text/x-python",
   "name": "python",
   "nbconvert_exporter": "python",
   "pygments_lexer": "ipython3",
   "version": "3.11.3"
  },
  "orig_nbformat": 4,
  "vscode": {
   "interpreter": {
    "hash": "0f5c6f72bc62c81ae52e96e9a3a4236b77333ef45d4cdc0c3574ebd317f415f5"
   }
  }
 },
 "nbformat": 4,
 "nbformat_minor": 2
}
